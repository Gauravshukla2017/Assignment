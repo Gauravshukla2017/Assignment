{
    "cells": [
        {
            "metadata": {},
            "cell_type": "code",
            "source": "\nimport types\nimport pandas as pd\nfrom botocore.client import Config\nimport ibm_boto3\n\ndef __iter__(self): return 0\n\n# @hidden_cell\n# The following code accesses a file in your IBM Cloud Object Storage. It includes your credentials.\n# You might want to remove those credentials before you share the notebook.\nclient_f76289e593f5413f86c4a094f73ac29e = ibm_boto3.client(service_name='s3',\n    ibm_api_key_id='3VUwgeoz3_iguVPmEyE3xAWBwP73j-JPmghM55Gmu-WB',\n    ibm_auth_endpoint=\"https://iam.cloud.ibm.com/oidc/token\",\n    config=Config(signature_version='oauth'),\n    endpoint_url='https://s3-api.us-geo.objectstorage.service.networklayer.com')\n\nbody = client_f76289e593f5413f86c4a094f73ac29e.get_object(Bucket='pythonbasics-donotdelete-pr-2hpsto80vyytv3',Key='quarter_csv (1).csv')['Body']\n# add missing __iter__ method, so pandas accepts body as file-like object\nif not hasattr(body, \"__iter__\"): body.__iter__ = types.MethodType( __iter__, body )\n\n# If you are reading an Excel file into a pandas DataFrame, replace `read_csv` by `read_excel` in the next statement.\ndf_data_1 = pd.read_csv(body)\ndf_data_1.head()\n",
            "execution_count": 4,
            "outputs": [
                {
                    "output_type": "execute_result",
                    "execution_count": 4,
                    "data": {
                        "text/plain": "         date  level-current  level-chained  change-current  change-chained\n0  1947-04-01          246.3         1932.3             6.4            -0.4\n1  1947-07-01          250.1         1930.3            17.3             6.4\n2  1947-10-01          260.3         1960.7             9.3             6.0\n3  1948-01-01          266.2         1989.5            10.5             6.7\n4  1948-04-01          272.9         2021.9            10.0             2.3",
                        "text/html": "<div>\n<style scoped>\n    .dataframe tbody tr th:only-of-type {\n        vertical-align: middle;\n    }\n\n    .dataframe tbody tr th {\n        vertical-align: top;\n    }\n\n    .dataframe thead th {\n        text-align: right;\n    }\n</style>\n<table border=\"1\" class=\"dataframe\">\n  <thead>\n    <tr style=\"text-align: right;\">\n      <th></th>\n      <th>date</th>\n      <th>level-current</th>\n      <th>level-chained</th>\n      <th>change-current</th>\n      <th>change-chained</th>\n    </tr>\n  </thead>\n  <tbody>\n    <tr>\n      <th>0</th>\n      <td>1947-04-01</td>\n      <td>246.3</td>\n      <td>1932.3</td>\n      <td>6.4</td>\n      <td>-0.4</td>\n    </tr>\n    <tr>\n      <th>1</th>\n      <td>1947-07-01</td>\n      <td>250.1</td>\n      <td>1930.3</td>\n      <td>17.3</td>\n      <td>6.4</td>\n    </tr>\n    <tr>\n      <th>2</th>\n      <td>1947-10-01</td>\n      <td>260.3</td>\n      <td>1960.7</td>\n      <td>9.3</td>\n      <td>6.0</td>\n    </tr>\n    <tr>\n      <th>3</th>\n      <td>1948-01-01</td>\n      <td>266.2</td>\n      <td>1989.5</td>\n      <td>10.5</td>\n      <td>6.7</td>\n    </tr>\n    <tr>\n      <th>4</th>\n      <td>1948-04-01</td>\n      <td>272.9</td>\n      <td>2021.9</td>\n      <td>10.0</td>\n      <td>2.3</td>\n    </tr>\n  </tbody>\n</table>\n</div>"
                    },
                    "metadata": {}
                }
            ]
        },
        {
            "metadata": {},
            "cell_type": "code",
            "source": "\nbody = client_f76289e593f5413f86c4a094f73ac29e.get_object(Bucket='pythonbasics-donotdelete-pr-2hpsto80vyytv3',Key='aat1_csv.csv')['Body']\n# add missing __iter__ method, so pandas accepts body as file-like object\nif not hasattr(body, \"__iter__\"): body.__iter__ = types.MethodType( __iter__, body )\n\n# If you are reading an Excel file into a pandas DataFrame, replace `read_csv` by `read_excel` in the next statement.\ndf_data_2 = pd.read_csv(body)\ndf_data_2.head()\n",
            "execution_count": 5,
            "outputs": [
                {
                    "output_type": "execute_result",
                    "execution_count": 5,
                    "data": {
                        "text/plain": "   year  population  labor_force  population_percent  employed_total  \\\n0  1941       99900        55910                56.0           50350   \n1  1942       98640        56410                57.2           53750   \n2  1943       94640        55540                58.7           54470   \n3  1944       93220        54630                58.6           53960   \n4  1945       94090        53860                57.2           52820   \n\n   employed_percent  agrictulture_ratio  nonagriculture_ratio  unemployed  \\\n0              50.4                9100                 41250        5560   \n1              54.5                9250                 44500        2660   \n2              57.6                9080                 45390        1070   \n3              57.9                8950                 45010         670   \n4              56.1                8580                 44240        1040   \n\n   unemployed_percent  not_in_labor  footnotes  \n0                 9.9         43990        NaN  \n1                 4.7         42230        NaN  \n2                 1.9         39100        NaN  \n3                 1.2         38590        NaN  \n4                 1.9         40230        NaN  ",
                        "text/html": "<div>\n<style scoped>\n    .dataframe tbody tr th:only-of-type {\n        vertical-align: middle;\n    }\n\n    .dataframe tbody tr th {\n        vertical-align: top;\n    }\n\n    .dataframe thead th {\n        text-align: right;\n    }\n</style>\n<table border=\"1\" class=\"dataframe\">\n  <thead>\n    <tr style=\"text-align: right;\">\n      <th></th>\n      <th>year</th>\n      <th>population</th>\n      <th>labor_force</th>\n      <th>population_percent</th>\n      <th>employed_total</th>\n      <th>employed_percent</th>\n      <th>agrictulture_ratio</th>\n      <th>nonagriculture_ratio</th>\n      <th>unemployed</th>\n      <th>unemployed_percent</th>\n      <th>not_in_labor</th>\n      <th>footnotes</th>\n    </tr>\n  </thead>\n  <tbody>\n    <tr>\n      <th>0</th>\n      <td>1941</td>\n      <td>99900</td>\n      <td>55910</td>\n      <td>56.0</td>\n      <td>50350</td>\n      <td>50.4</td>\n      <td>9100</td>\n      <td>41250</td>\n      <td>5560</td>\n      <td>9.9</td>\n      <td>43990</td>\n      <td>NaN</td>\n    </tr>\n    <tr>\n      <th>1</th>\n      <td>1942</td>\n      <td>98640</td>\n      <td>56410</td>\n      <td>57.2</td>\n      <td>53750</td>\n      <td>54.5</td>\n      <td>9250</td>\n      <td>44500</td>\n      <td>2660</td>\n      <td>4.7</td>\n      <td>42230</td>\n      <td>NaN</td>\n    </tr>\n    <tr>\n      <th>2</th>\n      <td>1943</td>\n      <td>94640</td>\n      <td>55540</td>\n      <td>58.7</td>\n      <td>54470</td>\n      <td>57.6</td>\n      <td>9080</td>\n      <td>45390</td>\n      <td>1070</td>\n      <td>1.9</td>\n      <td>39100</td>\n      <td>NaN</td>\n    </tr>\n    <tr>\n      <th>3</th>\n      <td>1944</td>\n      <td>93220</td>\n      <td>54630</td>\n      <td>58.6</td>\n      <td>53960</td>\n      <td>57.9</td>\n      <td>8950</td>\n      <td>45010</td>\n      <td>670</td>\n      <td>1.2</td>\n      <td>38590</td>\n      <td>NaN</td>\n    </tr>\n    <tr>\n      <th>4</th>\n      <td>1945</td>\n      <td>94090</td>\n      <td>53860</td>\n      <td>57.2</td>\n      <td>52820</td>\n      <td>56.1</td>\n      <td>8580</td>\n      <td>44240</td>\n      <td>1040</td>\n      <td>1.9</td>\n      <td>40230</td>\n      <td>NaN</td>\n    </tr>\n  </tbody>\n</table>\n</div>"
                    },
                    "metadata": {}
                }
            ]
        },
        {
            "metadata": {},
            "cell_type": "code",
            "source": "df_data_2[df_data_2['unemployed_percent'] > 8.5]",
            "execution_count": 6,
            "outputs": [
                {
                    "output_type": "execute_result",
                    "execution_count": 6,
                    "data": {
                        "text/plain": "    year  population  labor_force  population_percent  employed_total  \\\n0   1941       99900        55910                56.0           50350   \n42  1982      172271       110204                64.0           99526   \n43  1983      174215       111550                64.0          100834   \n69  2009      235801       154142                65.4          139877   \n70  2010      237830       153889                64.7          139064   \n\n    employed_percent  agrictulture_ratio  nonagriculture_ratio  unemployed  \\\n0               50.4                9100                 41250        5560   \n42              57.8                3401                 96125       10678   \n43              57.9                3383                 97450       10717   \n69              59.3                2103                137775       14265   \n70              58.5                2206                136858       14825   \n\n    unemployed_percent  not_in_labor  footnotes  \n0                  9.9         43990        NaN  \n42                 9.7         62067        NaN  \n43                 9.6         62665        NaN  \n69                 9.3         81659        1.0  \n70                 9.6         83941        1.0  ",
                        "text/html": "<div>\n<style scoped>\n    .dataframe tbody tr th:only-of-type {\n        vertical-align: middle;\n    }\n\n    .dataframe tbody tr th {\n        vertical-align: top;\n    }\n\n    .dataframe thead th {\n        text-align: right;\n    }\n</style>\n<table border=\"1\" class=\"dataframe\">\n  <thead>\n    <tr style=\"text-align: right;\">\n      <th></th>\n      <th>year</th>\n      <th>population</th>\n      <th>labor_force</th>\n      <th>population_percent</th>\n      <th>employed_total</th>\n      <th>employed_percent</th>\n      <th>agrictulture_ratio</th>\n      <th>nonagriculture_ratio</th>\n      <th>unemployed</th>\n      <th>unemployed_percent</th>\n      <th>not_in_labor</th>\n      <th>footnotes</th>\n    </tr>\n  </thead>\n  <tbody>\n    <tr>\n      <th>0</th>\n      <td>1941</td>\n      <td>99900</td>\n      <td>55910</td>\n      <td>56.0</td>\n      <td>50350</td>\n      <td>50.4</td>\n      <td>9100</td>\n      <td>41250</td>\n      <td>5560</td>\n      <td>9.9</td>\n      <td>43990</td>\n      <td>NaN</td>\n    </tr>\n    <tr>\n      <th>42</th>\n      <td>1982</td>\n      <td>172271</td>\n      <td>110204</td>\n      <td>64.0</td>\n      <td>99526</td>\n      <td>57.8</td>\n      <td>3401</td>\n      <td>96125</td>\n      <td>10678</td>\n      <td>9.7</td>\n      <td>62067</td>\n      <td>NaN</td>\n    </tr>\n    <tr>\n      <th>43</th>\n      <td>1983</td>\n      <td>174215</td>\n      <td>111550</td>\n      <td>64.0</td>\n      <td>100834</td>\n      <td>57.9</td>\n      <td>3383</td>\n      <td>97450</td>\n      <td>10717</td>\n      <td>9.6</td>\n      <td>62665</td>\n      <td>NaN</td>\n    </tr>\n    <tr>\n      <th>69</th>\n      <td>2009</td>\n      <td>235801</td>\n      <td>154142</td>\n      <td>65.4</td>\n      <td>139877</td>\n      <td>59.3</td>\n      <td>2103</td>\n      <td>137775</td>\n      <td>14265</td>\n      <td>9.3</td>\n      <td>81659</td>\n      <td>1.0</td>\n    </tr>\n    <tr>\n      <th>70</th>\n      <td>2010</td>\n      <td>237830</td>\n      <td>153889</td>\n      <td>64.7</td>\n      <td>139064</td>\n      <td>58.5</td>\n      <td>2206</td>\n      <td>136858</td>\n      <td>14825</td>\n      <td>9.6</td>\n      <td>83941</td>\n      <td>1.0</td>\n    </tr>\n  </tbody>\n</table>\n</div>"
                    },
                    "metadata": {}
                }
            ]
        },
        {
            "metadata": {},
            "cell_type": "code",
            "source": "import matplotlib.pyplot as plt\n%matplotlib inline",
            "execution_count": 7,
            "outputs": []
        },
        {
            "metadata": {},
            "cell_type": "code",
            "source": "def make_dashboard():\n    plt.plot(df_data_2['year'],df_data_2['unemployed_percent'],'b')\n    plt.plot(df_data_1['date'],df_data_1['change-chained'],'r')",
            "execution_count": 8,
            "outputs": []
        },
        {
            "metadata": {},
            "cell_type": "code",
            "source": "make_dashboard()",
            "execution_count": 9,
            "outputs": [
                {
                    "output_type": "display_data",
                    "data": {
                        "text/plain": "<Figure size 432x288 with 1 Axes>",
                        "image/png": "[encoded data removed]"
                    },
                    "metadata": {
                        "needs_background": "light"
                    }
                }
            ]
        }
    ],
    "metadata": {
        "kernelspec": {
            "name": "python3",
            "display_name": "Python 3.6",
            "language": "python"
        },
        "language_info": {
            "name": "python",
            "version": "3.6.9",
            "mimetype": "text/x-python",
            "codemirror_mode": {
                "name": "ipython",
                "version": 3
            },
            "pygments_lexer": "ipython3",
            "nbconvert_exporter": "python",
            "file_extension": ".py"
        }
    },
    "nbformat": 4,
    "nbformat_minor": 1
}